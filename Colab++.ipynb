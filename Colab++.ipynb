{
  "cells": [
    {
      "cell_type": "markdown",
      "metadata": {
        "colab_type": "text",
        "id": "view-in-github"
      },
      "source": [
        "<a href=\"https://colab.research.google.com/github/patelka2211/Colab_plus_plus/blob/main/Colab%2B%2B.ipynb\" target=\"_parent\"><img src=\"https://colab.research.google.com/assets/colab-badge.svg\" alt=\"Open In Colab\"/></a>"
      ]
    },
    {
      "cell_type": "markdown",
      "metadata": {
        "id": "vlvC87mRSQkq"
      },
      "source": [
        "Visit [https://github.com/patelka2211/Colab_plus_plus](https://github.com/patelka2211/Colab_plus_plus) for more information.\n",
        "\n",
        "![](https://opengraph.githubassets.com/1/patelka2211/Colab_plus_plus)"
      ]
    },
    {
      "cell_type": "markdown",
      "metadata": {
        "id": "i89gkYExSMMt"
      },
      "source": [
        "# Setting up the environment"
      ]
    },
    {
      "cell_type": "code",
      "execution_count": null,
      "metadata": {
        "id": "oe22HG8ORiFA"
      },
      "outputs": [],
      "source": [
        "!curl https://raw.githubusercontent.com/patelka2211/Colab_plus_plus/main/Colab_plus_plus.py --output Colab_plus_plus.py\n",
        "\n",
        "from Colab_plus_plus import Colab_plus_plus"
      ]
    },
    {
      "cell_type": "markdown",
      "metadata": {
        "id": "jD28D-MJSI-Y"
      },
      "source": [
        "## Running C++ on Colab"
      ]
    },
    {
      "cell_type": "code",
      "execution_count": null,
      "metadata": {
        "id": "5Is2B3dHR4Yq"
      },
      "outputs": [],
      "source": [
        "cpp_file_obj = Colab_plus_plus('main.cpp')\n",
        "\n",
        "cpp_file_obj.source_code('''\n",
        "#include <bits/stdc++.h>\n",
        "using namespace std;\n",
        "\n",
        "int main()\n",
        "{\n",
        "    cout<<\"Hello world\"<<endl;\n",
        "    return 0;\n",
        "}\n",
        "''')\n",
        "\n",
        "!sh $cpp_file_obj.bash_file\n",
        "\n",
        "# # Optional method\n",
        "# cpp_file_obj.download()"
      ]
    },
    {
      "cell_type": "markdown",
      "metadata": {
        "id": "Jk-LgtHrSD85"
      },
      "source": [
        "## Running JavaScript on Colab"
      ]
    },
    {
      "cell_type": "code",
      "execution_count": null,
      "metadata": {
        "id": "V7SdFwoVR5Ie"
      },
      "outputs": [],
      "source": [
        "js_file_obj = Colab_plus_plus('main.js')\n",
        "\n",
        "js_file_obj.source_code('''\n",
        "console.log('Hello world');\n",
        "''')\n",
        "\n",
        "!sh $js_file_obj.bash_file\n",
        "\n",
        "# # Optional method\n",
        "# js_file_obj.download()"
      ]
    }
  ],
  "metadata": {
    "colab": {
      "authorship_tag": "ABX9TyMeaqVkuHMb8qonz0ES9cDn",
      "include_colab_link": true,
      "provenance": []
    },
    "kernelspec": {
      "display_name": "Python 3.10.5 64-bit",
      "language": "python",
      "name": "python3"
    },
    "language_info": {
      "name": "python",
      "version": "3.10.5"
    },
    "vscode": {
      "interpreter": {
        "hash": "aee8b7b246df8f9039afb4144a1f6fd8d2ca17a180786b69acc140d282b71a49"
      }
    }
  },
  "nbformat": 4,
  "nbformat_minor": 0
}
