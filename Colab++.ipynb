{
  "nbformat": 4,
  "nbformat_minor": 0,
  "metadata": {
    "colab": {
      "provenance": [],
      "authorship_tag": "ABX9TyM+7L9bVIH/3jPI3e2RLVIj",
      "include_colab_link": true
    },
    "kernelspec": {
      "name": "python3",
      "display_name": "Python 3"
    },
    "language_info": {
      "name": "python"
    }
  },
  "cells": [
    {
      "cell_type": "markdown",
      "metadata": {
        "id": "view-in-github",
        "colab_type": "text"
      },
      "source": [
        "<a href=\"https://colab.research.google.com/github/patelka2211/Colab_plus_plus/blob/main/Colab%2B%2B.ipynb\" target=\"_parent\"><img src=\"https://colab.research.google.com/assets/colab-badge.svg\" alt=\"Open In Colab\"/></a>"
      ]
    },
    {
      "cell_type": "markdown",
      "source": [
        "Visit [https://github.com/patelka2211/Colab_plus_plus](https://github.com/patelka2211/Colab_plus_plus) for more information.\n",
        "\n",
        "<!-- ![](https://opengraph.githubassets.com/1/patelka2211/Colab_plus_plus) -->\n",
        "\n",
        "<img src=\"https://opengraph.githubassets.com/1/patelka2211/Colab_plus_plus\" style=\"border-radius: 10px; background-color: red;\"/>"
      ],
      "metadata": {
        "id": "vlvC87mRSQkq"
      }
    },
    {
      "cell_type": "markdown",
      "source": [
        "# Setting up the environment"
      ],
      "metadata": {
        "id": "i89gkYExSMMt"
      }
    },
    {
      "cell_type": "code",
      "execution_count": 1,
      "metadata": {
        "id": "oe22HG8ORiFA"
      },
      "outputs": [],
      "source": [
        "!curl https://raw.githubusercontent.com/patelka2211/Colab_plus_plus/main/Colab_plus_plus.py --output Colab_plus_plus.py\n",
        "\n",
        "from Colab_plus_plus import Colab_plus_plus"
      ]
    },
    {
      "cell_type": "markdown",
      "source": [
        "## Running C++ in Colab"
      ],
      "metadata": {
        "id": "jD28D-MJSI-Y"
      }
    },
    {
      "cell_type": "code",
      "source": [
        "cpp_file_obj = Colab_plus_plus('main.cpp')\n",
        "\n",
        "cpp_file_obj.source_code('''\n",
        "#include <bits/stdc++.h>\n",
        "using namespace std;\n",
        "\n",
        "int main()\n",
        "{\n",
        "    cout<<\"Hello world from C++.\"<<endl;\n",
        "    return 0;\n",
        "}\n",
        "''')\n",
        "\n",
        "!sh $cpp_file_obj.bash_file\n",
        "\n",
        "# # Optional method\n",
        "# cpp_file_obj.download()"
      ],
      "metadata": {
        "id": "5Is2B3dHR4Yq",
        "colab": {
          "base_uri": "https://localhost:8080/"
        },
        "outputId": "97aecdf3-a667-477f-d012-298059d455fe"
      },
      "execution_count": 2,
      "outputs": [
        {
          "output_type": "stream",
          "name": "stdout",
          "text": [
            "Hello world from C++.\n"
          ]
        }
      ]
    },
    {
      "cell_type": "markdown",
      "source": [
        "## Running C code in Colab"
      ],
      "metadata": {
        "id": "crDjEutejRCr"
      }
    },
    {
      "cell_type": "code",
      "source": [
        "c_file_obj = Colab_plus_plus('main.c')\n",
        "\n",
        "c_file_obj.source_code('''\n",
        "#include <stdio.h>\n",
        "\n",
        "int main()\n",
        "{\n",
        "    printf(\"Hello world from C.\");\n",
        "    return 0;\n",
        "}\n",
        "''')\n",
        "\n",
        "!sh $c_file_obj.bash_file\n",
        "\n",
        "# # Optional method\n",
        "# c_file_obj.download()"
      ],
      "metadata": {
        "colab": {
          "base_uri": "https://localhost:8080/"
        },
        "id": "GAscpnqjGnAg",
        "outputId": "c25aa3b0-96f7-459d-e46d-66a9a1df747d"
      },
      "execution_count": 3,
      "outputs": [
        {
          "output_type": "stream",
          "name": "stdout",
          "text": [
            "Hello world from C."
          ]
        }
      ]
    },
    {
      "cell_type": "markdown",
      "source": [
        "## Running Java code in Colab"
      ],
      "metadata": {
        "id": "ERTofGI7jbpJ"
      }
    },
    {
      "cell_type": "code",
      "source": [
        "java_file_obj = Colab_plus_plus('HelloWorld.java')\n",
        "\n",
        "java_file_obj.source_code('''\n",
        "public class HelloWorld\n",
        "{\n",
        "    public static void main(String args[])\n",
        "    {\n",
        "        System.out.println(\"Hello world from Java.\");\n",
        "    }\n",
        "}\n",
        "''')\n",
        "\n",
        "!sh $java_file_obj.bash_file\n",
        "\n",
        "# # Optional method\n",
        "# java_file_obj.download()"
      ],
      "metadata": {
        "colab": {
          "base_uri": "https://localhost:8080/"
        },
        "id": "ktlLtGHBLV1K",
        "outputId": "ddc5115d-2384-43a1-93fb-014ad084b15f"
      },
      "execution_count": 4,
      "outputs": [
        {
          "output_type": "stream",
          "name": "stdout",
          "text": [
            "Hello world from Java.\n"
          ]
        }
      ]
    },
    {
      "cell_type": "markdown",
      "source": [
        "## Running JavaScript in Colab"
      ],
      "metadata": {
        "id": "Jk-LgtHrSD85"
      }
    },
    {
      "cell_type": "code",
      "source": [
        "js_file_obj = Colab_plus_plus('main.js')\n",
        "\n",
        "js_file_obj.source_code('''\n",
        "console.log('Hello world from JavaScript.');\n",
        "''')\n",
        "\n",
        "!sh $js_file_obj.bash_file\n",
        "\n",
        "# # Optional method\n",
        "# js_file_obj.download()"
      ],
      "metadata": {
        "id": "V7SdFwoVR5Ie",
        "colab": {
          "base_uri": "https://localhost:8080/"
        },
        "outputId": "bbbe5311-c98e-402e-bf1f-9e6b09c1d601"
      },
      "execution_count": 5,
      "outputs": [
        {
          "output_type": "stream",
          "name": "stdout",
          "text": [
            "Hello world from JavaScript.\n"
          ]
        }
      ]
    }
  ]
}