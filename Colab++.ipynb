{
  "nbformat": 4,
  "nbformat_minor": 0,
  "metadata": {
    "colab": {
      "provenance": [],
      "authorship_tag": "ABX9TyMeaqVkuHMb8qonz0ES9cDn",
      "include_colab_link": true
    },
    "kernelspec": {
      "name": "python3",
      "display_name": "Python 3"
    },
    "language_info": {
      "name": "python"
    }
  },
  "cells": [
    {
      "cell_type": "markdown",
      "metadata": {
        "id": "view-in-github",
        "colab_type": "text"
      },
      "source": [
        "<a href=\"https://colab.research.google.com/github/patelka2211/Colab_plus_plus/blob/main/Colab%2B%2B.ipynb\" target=\"_parent\"><img src=\"https://colab.research.google.com/assets/colab-badge.svg\" alt=\"Open In Colab\"/></a>"
      ]
    },
    {
      "cell_type": "markdown",
      "source": [
        "Visit [https://github.com/patelka2211/Colab_plus_plus](https://github.com/patelka2211/Colab_plus_plus) for more information.\n",
        "\n",
        "![](https://opengraph.githubassets.com/1/patelka2211/Colab_plus_plus)"
      ],
      "metadata": {
        "id": "vlvC87mRSQkq"
      }
    },
    {
      "cell_type": "markdown",
      "source": [
        "# Setting up the environment"
      ],
      "metadata": {
        "id": "i89gkYExSMMt"
      }
    },
    {
      "cell_type": "code",
      "execution_count": null,
      "metadata": {
        "id": "oe22HG8ORiFA"
      },
      "outputs": [],
      "source": [
        "!curl https://raw.githubusercontent.com/patelka2211/Colab_plus_plus/main/Colab_plus_plus.py --output Colab_plus_plus.py\n",
        "\n",
        "from Colab_plus_plus import Colab_plus_plus"
      ]
    },
    {
      "cell_type": "markdown",
      "source": [
        "## Running C++ on Colab"
      ],
      "metadata": {
        "id": "jD28D-MJSI-Y"
      }
    },
    {
      "cell_type": "code",
      "source": [
        "cpp_file_obj = Colab_plus_plus('main.cpp')\n",
        "\n",
        "cpp_file_obj.source_code('''\n",
        "#include <bits/stdc++.h>\n",
        "using namespace std;\n",
        "\n",
        "int main()\n",
        "{\n",
        "    cout<<\"Hello world\"<<endl;\n",
        "    return 0;\n",
        "}\n",
        "''')\n",
        "\n",
        "!sh $cpp_file_obj.bash_file\n",
        "\n",
        "# # Optional method\n",
        "# cpp_file_obj.download()"
      ],
      "metadata": {
        "id": "5Is2B3dHR4Yq"
      },
      "execution_count": null,
      "outputs": []
    },
    {
      "cell_type": "markdown",
      "source": [
        "## Running JavaScript on Colab"
      ],
      "metadata": {
        "id": "Jk-LgtHrSD85"
      }
    },
    {
      "cell_type": "code",
      "source": [
        "js_file_obj = Colab_plus_plus('main.js')\n",
        "\n",
        "js_file_obj.source_code('''\n",
        "console.log('Hello world');\n",
        "''')\n",
        "\n",
        "!sh $js_file_obj.bash_file\n",
        "\n",
        "# # Optional method\n",
        "# js_file_obj.download()"
      ],
      "metadata": {
        "id": "V7SdFwoVR5Ie"
      },
      "execution_count": null,
      "outputs": []
    }
  ]
}