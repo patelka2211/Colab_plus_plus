{
  "cells": [
    {
      "cell_type": "markdown",
      "metadata": {
        "colab_type": "text",
        "id": "view-in-github"
      },
      "source": [
        "<a href=\"https://colab.research.google.com/github/patelka2211/Colab_plus_plus/blob/main/Colab%2B%2B.ipynb\" target=\"_parent\"><img src=\"https://colab.research.google.com/assets/colab-badge.svg\" alt=\"Open In Colab\"/></a>"
      ]
    },
    {
      "cell_type": "markdown",
      "metadata": {
        "id": "vlvC87mRSQkq"
      },
      "source": [
        "Visit [https://github.com/patelka2211/Colab_plus_plus](https://github.com/patelka2211/Colab_plus_plus) for more information.\n",
        "\n",
        "<!-- ![](https://opengraph.githubassets.com/1/patelka2211/Colab_plus_plus) -->\n",
        "\n",
        "<img src=\"https://opengraph.githubassets.com/1/patelka2211/Colab_plus_plus\" style=\"border-radius: 10px; background-color: red;\"/>"
      ]
    },
    {
      "cell_type": "markdown",
      "metadata": {
        "id": "i89gkYExSMMt"
      },
      "source": [
        "# Setting up the environment"
      ]
    },
    {
      "cell_type": "code",
      "execution_count": 1,
      "metadata": {
        "id": "oe22HG8ORiFA"
      },
      "outputs": [],
      "source": [
        "!curl https://raw.githubusercontent.com/patelka2211/Colab_plus_plus/main/Colab_plus_plus.py --output Colab_plus_plus.py\n",
        "\n",
        "from Colab_plus_plus import Colab_plus_plus"
      ]
    },
    {
      "cell_type": "markdown",
      "metadata": {
        "id": "jD28D-MJSI-Y"
      },
      "source": [
        "## Running C++ in Colab"
      ]
    },
    {
      "cell_type": "code",
      "execution_count": 2,
      "metadata": {
        "colab": {
          "base_uri": "https://localhost:8080/"
        },
        "id": "5Is2B3dHR4Yq",
        "outputId": "97aecdf3-a667-477f-d012-298059d455fe"
      },
      "outputs": [
        {
          "name": "stdout",
          "output_type": "stream",
          "text": [
            "Hello world from C++.\n"
          ]
        }
      ],
      "source": [
        "cpp_file_obj = Colab_plus_plus('main.cpp')\n",
        "\n",
        "cpp_file_obj.source_code('''\n",
        "#include <bits/stdc++.h>\n",
        "using namespace std;\n",
        "\n",
        "int main()\n",
        "{\n",
        "    cout<<\"Hello world from C++.\"<<endl;\n",
        "    return 0;\n",
        "}\n",
        "''')\n",
        "\n",
        "!sh $cpp_file_obj.bash_file\n",
        "\n",
        "# # Optional method\n",
        "# cpp_file_obj.download()"
      ]
    },
    {
      "cell_type": "markdown",
      "metadata": {
        "id": "crDjEutejRCr"
      },
      "source": [
        "## Running C code in Colab"
      ]
    },
    {
      "cell_type": "code",
      "execution_count": 3,
      "metadata": {
        "colab": {
          "base_uri": "https://localhost:8080/"
        },
        "id": "GAscpnqjGnAg",
        "outputId": "c25aa3b0-96f7-459d-e46d-66a9a1df747d"
      },
      "outputs": [
        {
          "name": "stdout",
          "output_type": "stream",
          "text": [
            "Hello world from C."
          ]
        }
      ],
      "source": [
        "c_file_obj = Colab_plus_plus('main.c')\n",
        "\n",
        "c_file_obj.source_code('''\n",
        "#include <stdio.h>\n",
        "\n",
        "int main()\n",
        "{\n",
        "    printf(\"Hello world from C.\");\n",
        "    return 0;\n",
        "}\n",
        "''')\n",
        "\n",
        "!sh $c_file_obj.bash_file\n",
        "\n",
        "# # Optional method\n",
        "# c_file_obj.download()"
      ]
    },
    {
      "cell_type": "markdown",
      "metadata": {
        "id": "ERTofGI7jbpJ"
      },
      "source": [
        "## Running Java code in Colab"
      ]
    },
    {
      "cell_type": "code",
      "execution_count": 4,
      "metadata": {
        "colab": {
          "base_uri": "https://localhost:8080/"
        },
        "id": "ktlLtGHBLV1K",
        "outputId": "ddc5115d-2384-43a1-93fb-014ad084b15f"
      },
      "outputs": [
        {
          "name": "stdout",
          "output_type": "stream",
          "text": [
            "Hello world from Java.\n"
          ]
        }
      ],
      "source": [
        "java_file_obj = Colab_plus_plus('HelloWorld.java')\n",
        "\n",
        "java_file_obj.source_code('''\n",
        "public class HelloWorld\n",
        "{\n",
        "    public static void main(String args[])\n",
        "    {\n",
        "        System.out.println(\"Hello world from Java.\");\n",
        "    }\n",
        "}\n",
        "''')\n",
        "\n",
        "!sh $java_file_obj.bash_file\n",
        "\n",
        "# # Optional method\n",
        "# java_file_obj.download()"
      ]
    },
    {
      "cell_type": "markdown",
      "metadata": {
        "id": "Jk-LgtHrSD85"
      },
      "source": [
        "## Running JavaScript in Colab"
      ]
    },
    {
      "cell_type": "code",
      "execution_count": 5,
      "metadata": {
        "colab": {
          "base_uri": "https://localhost:8080/"
        },
        "id": "V7SdFwoVR5Ie",
        "outputId": "bbbe5311-c98e-402e-bf1f-9e6b09c1d601"
      },
      "outputs": [
        {
          "name": "stdout",
          "output_type": "stream",
          "text": [
            "Hello world from JavaScript.\n"
          ]
        }
      ],
      "source": [
        "js_file_obj = Colab_plus_plus('main.js')\n",
        "\n",
        "js_file_obj.source_code('''\n",
        "console.log('Hello world from JavaScript.');\n",
        "''')\n",
        "\n",
        "!sh $js_file_obj.bash_file\n",
        "\n",
        "# # Optional method\n",
        "# js_file_obj.download()"
      ]
    }
  ],
  "metadata": {
    "colab": {
      "authorship_tag": "ABX9TyM+7L9bVIH/3jPI3e2RLVIj",
      "include_colab_link": true,
      "provenance": []
    },
    "kernelspec": {
      "display_name": "Python 3.10.5 64-bit",
      "language": "python",
      "name": "python3"
    },
    "language_info": {
      "name": "python",
      "version": "3.10.5"
    },
    "vscode": {
      "interpreter": {
        "hash": "aee8b7b246df8f9039afb4144a1f6fd8d2ca17a180786b69acc140d282b71a49"
      }
    }
  },
  "nbformat": 4,
  "nbformat_minor": 0
}
